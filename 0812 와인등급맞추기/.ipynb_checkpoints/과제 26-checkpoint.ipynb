{
 "cells": [
  {
   "cell_type": "code",
   "execution_count": 1,
   "metadata": {},
   "outputs": [
    {
     "name": "stderr",
     "output_type": "stream",
     "text": [
      "Using TensorFlow backend.\n"
     ]
    }
   ],
   "source": [
    "from keras.models import Sequential\n",
    "from keras.layers import Dense\n",
    "from keras.callbacks import EarlyStopping\n",
    "from keras.callbacks import ModelCheckpoint\n",
    "from keras.utils import np_utils\n",
    "import matplotlib.pyplot as plt\n",
    "import pandas as pd\n",
    "import numpy as np\n",
    "import tensorflow as tf\n",
    "import os\n",
    "from sklearn.model_selection import train_test_split\n",
    "from keras.models import load_model\n",
    "import math\n",
    "from sklearn.model_selection import StratifiedKFold"
   ]
  },
  {
   "cell_type": "code",
   "execution_count": 2,
   "metadata": {},
   "outputs": [],
   "source": [
    "seed = 0\n",
    "np.random.seed(seed)\n",
    "tf.set_random_seed(seed)"
   ]
  },
  {
   "cell_type": "code",
   "execution_count": 3,
   "metadata": {},
   "outputs": [
    {
     "data": {
      "text/html": [
       "<div>\n",
       "<style scoped>\n",
       "    .dataframe tbody tr th:only-of-type {\n",
       "        vertical-align: middle;\n",
       "    }\n",
       "\n",
       "    .dataframe tbody tr th {\n",
       "        vertical-align: top;\n",
       "    }\n",
       "\n",
       "    .dataframe thead th {\n",
       "        text-align: right;\n",
       "    }\n",
       "</style>\n",
       "<table border=\"1\" class=\"dataframe\">\n",
       "  <thead>\n",
       "    <tr style=\"text-align: right;\">\n",
       "      <th></th>\n",
       "      <th>0</th>\n",
       "      <th>1</th>\n",
       "      <th>2</th>\n",
       "      <th>3</th>\n",
       "      <th>4</th>\n",
       "      <th>5</th>\n",
       "      <th>6</th>\n",
       "      <th>7</th>\n",
       "      <th>8</th>\n",
       "      <th>9</th>\n",
       "      <th>10</th>\n",
       "      <th>11</th>\n",
       "      <th>12</th>\n",
       "    </tr>\n",
       "  </thead>\n",
       "  <tbody>\n",
       "    <tr>\n",
       "      <th>0</th>\n",
       "      <td>7.4</td>\n",
       "      <td>0.70</td>\n",
       "      <td>0.00</td>\n",
       "      <td>1.9</td>\n",
       "      <td>0.076</td>\n",
       "      <td>11.0</td>\n",
       "      <td>34.0</td>\n",
       "      <td>0.9978</td>\n",
       "      <td>3.51</td>\n",
       "      <td>0.56</td>\n",
       "      <td>9.4</td>\n",
       "      <td>5</td>\n",
       "      <td>1</td>\n",
       "    </tr>\n",
       "    <tr>\n",
       "      <th>1</th>\n",
       "      <td>7.8</td>\n",
       "      <td>0.88</td>\n",
       "      <td>0.00</td>\n",
       "      <td>2.6</td>\n",
       "      <td>0.098</td>\n",
       "      <td>25.0</td>\n",
       "      <td>67.0</td>\n",
       "      <td>0.9968</td>\n",
       "      <td>3.20</td>\n",
       "      <td>0.68</td>\n",
       "      <td>9.8</td>\n",
       "      <td>5</td>\n",
       "      <td>1</td>\n",
       "    </tr>\n",
       "    <tr>\n",
       "      <th>2</th>\n",
       "      <td>7.8</td>\n",
       "      <td>0.76</td>\n",
       "      <td>0.04</td>\n",
       "      <td>2.3</td>\n",
       "      <td>0.092</td>\n",
       "      <td>15.0</td>\n",
       "      <td>54.0</td>\n",
       "      <td>0.9970</td>\n",
       "      <td>3.26</td>\n",
       "      <td>0.65</td>\n",
       "      <td>9.8</td>\n",
       "      <td>5</td>\n",
       "      <td>1</td>\n",
       "    </tr>\n",
       "    <tr>\n",
       "      <th>3</th>\n",
       "      <td>11.2</td>\n",
       "      <td>0.28</td>\n",
       "      <td>0.56</td>\n",
       "      <td>1.9</td>\n",
       "      <td>0.075</td>\n",
       "      <td>17.0</td>\n",
       "      <td>60.0</td>\n",
       "      <td>0.9980</td>\n",
       "      <td>3.16</td>\n",
       "      <td>0.58</td>\n",
       "      <td>9.8</td>\n",
       "      <td>6</td>\n",
       "      <td>1</td>\n",
       "    </tr>\n",
       "    <tr>\n",
       "      <th>4</th>\n",
       "      <td>7.4</td>\n",
       "      <td>0.70</td>\n",
       "      <td>0.00</td>\n",
       "      <td>1.9</td>\n",
       "      <td>0.076</td>\n",
       "      <td>11.0</td>\n",
       "      <td>34.0</td>\n",
       "      <td>0.9978</td>\n",
       "      <td>3.51</td>\n",
       "      <td>0.56</td>\n",
       "      <td>9.4</td>\n",
       "      <td>5</td>\n",
       "      <td>1</td>\n",
       "    </tr>\n",
       "  </tbody>\n",
       "</table>\n",
       "</div>"
      ],
      "text/plain": [
       "     0     1     2    3      4     5     6       7     8     9    10  11  12\n",
       "0   7.4  0.70  0.00  1.9  0.076  11.0  34.0  0.9978  3.51  0.56  9.4   5   1\n",
       "1   7.8  0.88  0.00  2.6  0.098  25.0  67.0  0.9968  3.20  0.68  9.8   5   1\n",
       "2   7.8  0.76  0.04  2.3  0.092  15.0  54.0  0.9970  3.26  0.65  9.8   5   1\n",
       "3  11.2  0.28  0.56  1.9  0.075  17.0  60.0  0.9980  3.16  0.58  9.8   6   1\n",
       "4   7.4  0.70  0.00  1.9  0.076  11.0  34.0  0.9978  3.51  0.56  9.4   5   1"
      ]
     },
     "execution_count": 3,
     "metadata": {},
     "output_type": "execute_result"
    }
   ],
   "source": [
    "df_pre = pd.read_csv(\"../data/wine.csv\", header = None)\n",
    "df_pre.head()"
   ]
  },
  {
   "cell_type": "code",
   "execution_count": 4,
   "metadata": {},
   "outputs": [
    {
     "data": {
      "text/plain": [
       "array([6.8000e+00, 1.4000e-01, 1.8000e-01, 1.4000e+00, 4.7000e-02,\n",
       "       3.0000e+01, 9.0000e+01, 9.9164e-01, 3.2700e+00, 5.4000e-01,\n",
       "       1.1200e+01, 0.0000e+00])"
      ]
     },
     "execution_count": 4,
     "metadata": {},
     "output_type": "execute_result"
    }
   ],
   "source": [
    "df = df_pre.sample (frac=0.50)\n",
    "\n",
    "# 와인등급은 11번째 칼럼이므로 X에 11번째를 제외한 나머지를 넣는 과정이 까다롭다.\n",
    "dataset_1 = df.values\n",
    "dataset_2 = df.values\n",
    "X = np.delete(dataset_1, 11, axis=1)\n",
    "Y = dataset_2[:,11]\n",
    "X[1]"
   ]
  },
  {
   "cell_type": "code",
   "execution_count": 5,
   "metadata": {},
   "outputs": [
    {
     "data": {
      "text/plain": [
       "array([0., 0., 0., 0., 0., 0., 1., 0., 0., 0.], dtype=float32)"
      ]
     },
     "execution_count": 5,
     "metadata": {},
     "output_type": "execute_result"
    }
   ],
   "source": [
    "Y_2 = np_utils.to_categorical(Y)\n",
    "Y_2[1]"
   ]
  },
  {
   "cell_type": "code",
   "execution_count": 6,
   "metadata": {},
   "outputs": [],
   "source": [
    "X_train, X_test, Y_train, Y_test = train_test_split(X, Y_2, test_size=0.3, random_state=seed)\n",
    "\n",
    "early_stopping_callback = EarlyStopping (monitor = \"val_loss\", verbose=0, patience = 100)"
   ]
  },
  {
   "cell_type": "markdown",
   "metadata": {},
   "source": [
    "## Model 1"
   ]
  },
  {
   "cell_type": "code",
   "execution_count": 24,
   "metadata": {},
   "outputs": [],
   "source": [
    "model = Sequential()\n",
    "model.add(Dense(40, input_dim = 12, activation = \"relu\"))\n",
    "model.add(Dense(20, activation = \"softplus\"))\n",
    "model.add(Dense(10, activation = \"softmax\"))\n",
    "\n",
    "model.compile(loss = \"categorical_crossentropy\",\n",
    "             optimizer = \"adam\",\n",
    "             metrics = [\"accuracy\"])"
   ]
  },
  {
   "cell_type": "code",
   "execution_count": 25,
   "metadata": {},
   "outputs": [],
   "source": [
    "history1 = model.fit(X_train, Y_train, validation_split = 0.2, epochs=1000, batch_size=60, verbose = 0,\n",
    "                    callbacks = [early_stopping_callback])\n",
    "model.save(\"model1.h5\")"
   ]
  },
  {
   "cell_type": "code",
   "execution_count": 26,
   "metadata": {},
   "outputs": [
    {
     "data": {
      "image/png": "[encoded data removed]",
      "text/plain": [
       "<Figure size 432x288 with 1 Axes>"
      ]
     },
     "metadata": {
      "needs_background": "light"
     },
     "output_type": "display_data"
    }
   ],
   "source": [
    "y_vloss = history1.history['val_loss']\n",
    "y_acc = history1.history['acc']\n",
    "\n",
    "x_len = np.arange(len(y_acc))\n",
    "plt.plot(x_len, y_vloss, \"o\", c=\"red\", markersize = 3)\n",
    "plt.plot(x_len, y_acc, \"o\", c=\"blue\", markersize = 3)\n",
    "plt.show()"
   ]
  },
  {
   "cell_type": "code",
   "execution_count": 57,
   "metadata": {},
   "outputs": [],
   "source": [
    "del model\n",
    "\n",
    "model = load_model('model1.h5')"
   ]
  },
  {
   "cell_type": "code",
   "execution_count": 10,
   "metadata": {},
   "outputs": [
    {
     "name": "stdout",
     "output_type": "stream",
     "text": [
      "975/975 [==============================] - 0s 33us/step\n",
      "[1.2278252863272643, 0.5220512824792128]\n",
      "실제 6  prediction 6\n",
      "실제 6  prediction 6\n",
      "실제 5  prediction 6\n",
      "실제 5  prediction 5\n",
      "실제 7  prediction 6\n",
      "실제 5  prediction 5\n",
      "실제 5  prediction 5\n",
      "실제 7  prediction 7\n",
      "실제 5  prediction 5\n",
      "실제 6  prediction 6\n"
     ]
    }
   ],
   "source": [
    "print(model.evaluate(X_test,Y_test))\n",
    "Y_prediction = model.predict(X_test)\n",
    "\n",
    "for i in range(10):\n",
    "    label = np.argmax(Y_test[i], axis=-1)\n",
    "    prediction = np.argmax(Y_prediction[i], axis=-1)\n",
    "    print (\"실제\",label, \" prediction\", prediction)"
   ]
  },
  {
   "cell_type": "markdown",
   "metadata": {},
   "source": [
    "#### Model 1 의 test 정확도는 52.2%\n",
    "-----\n",
    "\n",
    "<br>\n",
    "\n",
    "## Model 2\n",
    "- Model 1 에서 epoch = 300 정도에서 early stop 이 일어남.\n",
    "- dense 를 늘려보겠다."
   ]
  },
  {
   "cell_type": "code",
   "execution_count": 27,
   "metadata": {},
   "outputs": [],
   "source": [
    "model = Sequential()\n",
    "model.add(Dense(60, activation = \"softplus\"))\n",
    "model.add(Dense(40, input_dim = 12, activation = \"relu\"))\n",
    "model.add(Dense(20, activation = \"softplus\"))\n",
    "model.add(Dense(10, activation = \"softmax\"))\n",
    "\n",
    "\n",
    "model.compile(loss = \"categorical_crossentropy\",\n",
    "             optimizer = \"adam\",\n",
    "             metrics = [\"accuracy\"])"
   ]
  },
  {
   "cell_type": "code",
   "execution_count": 29,
   "metadata": {},
   "outputs": [],
   "source": [
    "history2 = model.fit(X_train, Y_train, validation_split = 0.2, epochs=300, batch_size=60, verbose = 0,\n",
    "                     callbacks = [early_stopping_callback])\n",
    "model.save(\"model2.h5\")"
   ]
  },
  {
   "cell_type": "code",
   "execution_count": 30,
   "metadata": {},
   "outputs": [
    {
     "data": {
      "image/png": "[encoded data removed]",
      "text/plain": [
       "<Figure size 432x288 with 1 Axes>"
      ]
     },
     "metadata": {
      "needs_background": "light"
     },
     "output_type": "display_data"
    }
   ],
   "source": [
    "y_vloss = history2.history['val_loss']\n",
    "y_acc = history2.history['acc']\n",
    "\n",
    "x_len = np.arange(len(y_acc))\n",
    "plt.plot(x_len, y_vloss, \"o\", c=\"red\", markersize = 3)\n",
    "plt.plot(x_len, y_acc, \"o\", c=\"blue\", markersize = 3)\n",
    "plt.show()"
   ]
  },
  {
   "cell_type": "code",
   "execution_count": 31,
   "metadata": {},
   "outputs": [],
   "source": [
    "del model\n",
    "\n",
    "model = load_model('model2.h5')"
   ]
  },
  {
   "cell_type": "code",
   "execution_count": 32,
   "metadata": {},
   "outputs": [
    {
     "name": "stdout",
     "output_type": "stream",
     "text": [
      "975/975 [==============================] - 0s 88us/step\n",
      "[1.1448262723286946, 0.5179487179792844]\n",
      "실제 6  prediction 6\n",
      "실제 6  prediction 6\n",
      "실제 5  prediction 6\n",
      "실제 5  prediction 5\n",
      "실제 7  prediction 6\n",
      "실제 5  prediction 5\n",
      "실제 5  prediction 5\n",
      "실제 7  prediction 7\n",
      "실제 5  prediction 5\n",
      "실제 6  prediction 6\n"
     ]
    }
   ],
   "source": [
    "print(model.evaluate(X_test,Y_test))\n",
    "Y_prediction = model.predict(X_test)\n",
    "\n",
    "for i in range(10):\n",
    "    label = np.argmax(Y_test[i], axis=-1)\n",
    "    prediction = np.argmax(Y_prediction[i], axis=-1)\n",
    "    print (\"실제\",label, \" prediction\", prediction)"
   ]
  },
  {
   "cell_type": "markdown",
   "metadata": {},
   "source": [
    "#### Model 2 의 test 정확도는 51.8%. Model 1 에 비해 큰 변화가 없다.\n",
    "-----\n",
    "\n",
    "<br>\n",
    "\n",
    "## Model 3\n",
    "\n",
    "- Model 2 에서 Dense 를 한단계 늘렸으나 큰 변화가 없었다.\n",
    "- 이번에는 Model 1에서 Nodes 수를 늘리도록 한다."
   ]
  },
  {
   "cell_type": "code",
   "execution_count": 33,
   "metadata": {},
   "outputs": [],
   "source": [
    "model = Sequential()\n",
    "model.add(Dense(100, input_dim = 12, activation = \"relu\"))\n",
    "model.add(Dense(50, activation = \"softplus\"))\n",
    "model.add(Dense(10, activation = \"softmax\"))\n",
    "\n",
    "model.compile(loss = \"categorical_crossentropy\",\n",
    "             optimizer = \"adam\",\n",
    "             metrics = [\"accuracy\"])"
   ]
  },
  {
   "cell_type": "code",
   "execution_count": 34,
   "metadata": {},
   "outputs": [],
   "source": [
    "history3 = model.fit(X_train, Y_train, validation_split = 0.2, epochs=300, batch_size=60, verbose = 0,\n",
    "                     callbacks = [early_stopping_callback])\n",
    "model.save(\"model3.h5\")"
   ]
  },
  {
   "cell_type": "code",
   "execution_count": 35,
   "metadata": {},
   "outputs": [
    {
     "data": {
      "image/png": "[encoded data removed]",
      "text/plain": [
       "<Figure size 432x288 with 1 Axes>"
      ]
     },
     "metadata": {
      "needs_background": "light"
     },
     "output_type": "display_data"
    }
   ],
   "source": [
    "y_vloss = history3.history['val_loss']\n",
    "y_acc = history3.history['acc']\n",
    "\n",
    "x_len = np.arange(len(y_acc))\n",
    "plt.plot(x_len, y_vloss, \"o\", c=\"red\", markersize = 3)\n",
    "plt.plot(x_len, y_acc, \"o\", c=\"blue\", markersize = 3)\n",
    "plt.show()"
   ]
  },
  {
   "cell_type": "code",
   "execution_count": 37,
   "metadata": {},
   "outputs": [],
   "source": [
    "del model\n",
    "\n",
    "model = load_model('model3.h5')"
   ]
  },
  {
   "cell_type": "code",
   "execution_count": 38,
   "metadata": {},
   "outputs": [
    {
     "name": "stdout",
     "output_type": "stream",
     "text": [
      "975/975 [==============================] - 0s 110us/step\n",
      "[1.207517042160034, 0.49435897451180677]\n",
      "실제 6  prediction 5\n",
      "실제 6  prediction 6\n",
      "실제 5  prediction 6\n",
      "실제 5  prediction 5\n",
      "실제 7  prediction 7\n",
      "실제 5  prediction 5\n",
      "실제 5  prediction 5\n",
      "실제 7  prediction 6\n",
      "실제 5  prediction 6\n",
      "실제 6  prediction 8\n"
     ]
    }
   ],
   "source": [
    "print(model.evaluate(X_test,Y_test))\n",
    "Y_prediction = model.predict(X_test)\n",
    "\n",
    "for i in range(10):\n",
    "    label = np.argmax(Y_test[i], axis=-1)\n",
    "    prediction = np.argmax(Y_prediction[i], axis=-1)\n",
    "    print (\"실제\",label, \" prediction\", prediction)"
   ]
  },
  {
   "cell_type": "markdown",
   "metadata": {},
   "source": [
    "#### Model 3 의 test 정확도는 49.4%. Model 1 에 비해 약간 감소하였다.\n",
    "-----\n",
    "\n",
    "<br>\n",
    "\n",
    "\n",
    "## Model 4\n",
    "- 이번 모델에서는 Model 1 을 바탕으로 k-겹 교차검증을 적용한다. 총 5겹으로 진행한다.\n",
    "- k-겹 교차진행을 위해서는 Y 가 category 화 된 상태로는 적용할 수 없다. 따라서 먼저 split 한 후에 다시 category 화 되도록 한다."
   ]
  },
  {
   "cell_type": "code",
   "execution_count": 322,
   "metadata": {},
   "outputs": [],
   "source": [
    "model = Sequential()\n",
    "model.add(Dense(40, input_dim = 12, activation = \"relu\"))\n",
    "model.add(Dense(20, activation = \"softplus\"))\n",
    "model.add(Dense(10, activation = \"softmax\"))\n",
    "\n",
    "model.compile(loss = \"categorical_crossentropy\",\n",
    "             optimizer = \"adam\",\n",
    "             metrics = [\"accuracy\"])"
   ]
  },
  {
   "cell_type": "code",
   "execution_count": 43,
   "metadata": {
    "scrolled": true
   },
   "outputs": [
    {
     "name": "stderr",
     "output_type": "stream",
     "text": [
      "C:\\ProgramData\\Anaconda3\\lib\\site-packages\\sklearn\\model_selection\\_split.py:652: Warning: The least populated class in y has only 4 members, which is too few. The minimum number of members in any class cannot be less than n_splits=5.\n",
      "  % (min_groups, self.n_splits)), Warning)\n"
     ]
    },
    {
     "data": {
      "image/png": "[encoded data removed]",
      "text/plain": [
       "<Figure size 432x288 with 1 Axes>"
      ]
     },
     "metadata": {
      "needs_background": "light"
     },
     "output_type": "display_data"
    },
    {
     "name": "stdout",
     "output_type": "stream",
     "text": [
      "652/652 [==============================] - 0s 24us/step\n"
     ]
    },
    {
     "data": {
      "image/png": "[encoded data removed]",
      "text/plain": [
       "<Figure size 432x288 with 1 Axes>"
      ]
     },
     "metadata": {
      "needs_background": "light"
     },
     "output_type": "display_data"
    },
    {
     "name": "stdout",
     "output_type": "stream",
     "text": [
      "651/651 [==============================] - 0s 24us/step\n"
     ]
    },
    {
     "data": {
      "image/png": "[encoded data removed]",
      "text/plain": [
       "<Figure size 432x288 with 1 Axes>"
      ]
     },
     "metadata": {
      "needs_background": "light"
     },
     "output_type": "display_data"
    },
    {
     "name": "stdout",
     "output_type": "stream",
     "text": [
      "651/651 [==============================] - 0s 12us/step\n"
     ]
    },
    {
     "data": {
      "image/png": "[encoded data removed]",
      "text/plain": [
       "<Figure size 432x288 with 1 Axes>"
      ]
     },
     "metadata": {
      "needs_background": "light"
     },
     "output_type": "display_data"
    },
    {
     "name": "stdout",
     "output_type": "stream",
     "text": [
      "649/649 [==============================] - 0s 30us/step\n"
     ]
    },
    {
     "data": {
      "image/png": "[encoded data removed]",
      "text/plain": [
       "<Figure size 432x288 with 1 Axes>"
      ]
     },
     "metadata": {
      "needs_background": "light"
     },
     "output_type": "display_data"
    },
    {
     "name": "stdout",
     "output_type": "stream",
     "text": [
      "645/645 [==============================] - 0s 0us/step\n"
     ]
    }
   ],
   "source": [
    "n_fold = 5\n",
    "skf = StratifiedKFold(n_splits = n_fold, shuffle = True, random_state =seed)\n",
    "\n",
    "accuracy = []\n",
    "\n",
    "for train, test in skf.split(X, Y):\n",
    "    Y_c = np_utils.to_categorical(Y)\n",
    "    his = model.fit(X_train, Y_train, validation_split = 0.2, epochs=300, batch_size=60, verbose = 0,\n",
    "                    callbacks = [early_stopping_callback])\n",
    "    y_vloss = his.history['val_loss']\n",
    "    y_acc = his.history['acc']\n",
    "\n",
    "    x_len = np.arange(len(y_acc))\n",
    "    plt.plot(x_len, y_vloss, \"o\", c=\"red\", markersize = 3)\n",
    "    plt.plot(x_len, y_acc, \"o\", c=\"blue\", markersize = 3)\n",
    "    plt.show()\n",
    "    k_accuracy = \"%.4f\"%(model.evaluate(X[test],Y_c[test])[1])\n",
    "    accuracy.append(k_accuracy)"
   ]
  },
  {
   "cell_type": "code",
   "execution_count": 44,
   "metadata": {},
   "outputs": [
    {
     "data": {
      "text/plain": [
       "['0.6626', '0.6805', '0.6728', '0.6533', '0.6899']"
      ]
     },
     "execution_count": 44,
     "metadata": {},
     "output_type": "execute_result"
    }
   ],
   "source": [
    "accuracy"
   ]
  },
  {
   "cell_type": "code",
   "execution_count": 45,
   "metadata": {},
   "outputs": [
    {
     "name": "stdout",
     "output_type": "stream",
     "text": [
      "975/975 [==============================] - 0s 31us/step\n",
      "[2.4059362925015964, 0.5076923080591055]\n",
      "실제 6  예측값 5\n",
      "실제 6  예측값 6\n",
      "실제 5  예측값 5\n",
      "실제 5  예측값 5\n",
      "실제 7  예측값 6\n",
      "실제 5  예측값 5\n",
      "실제 5  예측값 5\n",
      "실제 7  예측값 7\n",
      "실제 5  예측값 6\n",
      "실제 6  예측값 8\n"
     ]
    }
   ],
   "source": [
    "print(model.evaluate(X_test,Y_test))\n",
    "Y_prediction = model.predict(X_test)\n",
    "\n",
    "for i in range(10):\n",
    "    label = np.argmax(Y_test[i], axis=-1)\n",
    "    prediction = np.argmax(Y_prediction[i], axis=-1)\n",
    "    print (\"실제\",label, \" 예측값\", prediction)"
   ]
  }
 ],
 "metadata": {
  "kernelspec": {
   "display_name": "Python 3",
   "language": "python",
   "name": "python3"
  },
  "language_info": {
   "codemirror_mode": {
    "name": "ipython",
    "version": 3
   },
   "file_extension": ".py",
   "mimetype": "text/x-python",
   "name": "python",
   "nbconvert_exporter": "python",
   "pygments_lexer": "ipython3",
   "version": "3.7.3"
  }
 },
 "nbformat": 4,
 "nbformat_minor": 2
}
